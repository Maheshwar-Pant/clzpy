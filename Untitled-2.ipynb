{
 "cells": [
  {
   "cell_type": "code",
   "execution_count": 2,
   "id": "ce9d3abf",
   "metadata": {},
   "outputs": [
    {
     "name": "stdout",
     "output_type": "stream",
     "text": [
      "['ktm', 'mnr', 'klp', 'lpr']\n",
      "lpr\n",
      "['ktm', 'mnr', 'klp']\n",
      "['lpr', 'klp', 'mnr', 'ktm']\n"
     ]
    }
   ],
   "source": [
    "places=[\"ktm\",\"mnr\",\"klp\",\"lpr\"]\n",
    "print(places)\n",
    "print(places[3])\n",
    "print(places[0:3])\n",
    "print(places[::-1])"
   ]
  },
  {
   "cell_type": "code",
   "execution_count": 3,
   "id": "8a18dcd0",
   "metadata": {},
   "outputs": [
    {
     "name": "stdout",
     "output_type": "stream",
     "text": [
      "['__add__', '__class__', '__class_getitem__', '__contains__', '__delattr__', '__delitem__', '__dir__', '__doc__', '__eq__', '__format__', '__ge__', '__getattribute__', '__getitem__', '__getstate__', '__gt__', '__hash__', '__iadd__', '__imul__', '__init__', '__init_subclass__', '__iter__', '__le__', '__len__', '__lt__', '__mul__', '__ne__', '__new__', '__reduce__', '__reduce_ex__', '__repr__', '__reversed__', '__rmul__', '__setattr__', '__setitem__', '__sizeof__', '__str__', '__subclasshook__', 'append', 'clear', 'copy', 'count', 'extend', 'index', 'insert', 'pop', 'remove', 'reverse', 'sort']\n"
     ]
    }
   ],
   "source": [
    "print(dir(places))"
   ]
  },
  {
   "cell_type": "code",
   "execution_count": null,
   "id": "e118b340",
   "metadata": {},
   "outputs": [
    {
     "name": "stdout",
     "output_type": "stream",
     "text": [
      "4\n",
      "['dhakeri', 'mnr', 'klp', 'lpr']\n"
     ]
    }
   ],
   "source": [
    "print(len(places))\n",
    "places[0]='dhakeri'\n",
    "'banke' in places\n",
    "print(places)\n",
    "\n"
   ]
  },
  {
   "cell_type": "code",
   "execution_count": 11,
   "id": "9323293e",
   "metadata": {},
   "outputs": [
    {
     "name": "stdout",
     "output_type": "stream",
     "text": [
      "['dhakeri', 'mnr', 'klp', 'satdobato', 'satdobato', 'satdobato', 'satdobato', 'satdobato']\n"
     ]
    }
   ],
   "source": [
    "places.append(\"satdobato\")\n",
    "print(places)"
   ]
  },
  {
   "cell_type": "code",
   "execution_count": 12,
   "id": "812cf5c4",
   "metadata": {},
   "outputs": [],
   "source": [
    "places.remove(\"satdobato\")"
   ]
  },
  {
   "cell_type": "code",
   "execution_count": 13,
   "id": "7352d9f6",
   "metadata": {},
   "outputs": [
    {
     "name": "stdout",
     "output_type": "stream",
     "text": [
      "['dhakeri', 'mnr', 'klp', 'satdobato', 'satdobato', 'satdobato', 'satdobato']\n"
     ]
    }
   ],
   "source": [
    "print(places)"
   ]
  },
  {
   "cell_type": "code",
   "execution_count": 17,
   "id": "d1c46107",
   "metadata": {},
   "outputs": [
    {
     "name": "stdout",
     "output_type": "stream",
     "text": [
      "['dhakeri', 'mnr', 'klp', 'satdobato', 'satdobato']\n"
     ]
    }
   ],
   "source": [
    "places.remove(\"satdobato\")\n",
    "print(places)"
   ]
  },
  {
   "cell_type": "code",
   "execution_count": 18,
   "id": "0af341bf",
   "metadata": {},
   "outputs": [
    {
     "data": {
      "text/plain": [
       "'mnr'"
      ]
     },
     "execution_count": 18,
     "metadata": {},
     "output_type": "execute_result"
    }
   ],
   "source": [
    "places.pop(1)"
   ]
  },
  {
   "cell_type": "code",
   "execution_count": 19,
   "id": "4a839ba7",
   "metadata": {},
   "outputs": [
    {
     "name": "stdout",
     "output_type": "stream",
     "text": [
      "['dhakeri', 'klp', 'satdobato', 'satdobato']\n"
     ]
    }
   ],
   "source": [
    "print(places)\n"
   ]
  },
  {
   "cell_type": "code",
   "execution_count": 22,
   "id": "4f691cab",
   "metadata": {},
   "outputs": [
    {
     "name": "stdout",
     "output_type": "stream",
     "text": [
      "['dhakeri', 'mnr', 'mnr', 'mnr', 'klp', 'satdobato', 'satdobato']\n"
     ]
    },
    {
     "data": {
      "text/plain": [
       "'mnr'"
      ]
     },
     "execution_count": 22,
     "metadata": {},
     "output_type": "execute_result"
    }
   ],
   "source": [
    "places.insert(1,\"mnr\")\n",
    "print(places)\n",
    "places.pop(2)"
   ]
  },
  {
   "cell_type": "code",
   "execution_count": 24,
   "id": "f20da4dd",
   "metadata": {},
   "outputs": [
    {
     "name": "stdout",
     "output_type": "stream",
     "text": [
      "['dhakeri', 'mnr', 'satdobato', 'satdobato']\n"
     ]
    }
   ],
   "source": [
    "\n",
    "places.pop(2)\n",
    "print(places)"
   ]
  },
  {
   "cell_type": "code",
   "execution_count": 25,
   "id": "df5eeee5",
   "metadata": {},
   "outputs": [],
   "source": [
    "places.sort()"
   ]
  },
  {
   "cell_type": "code",
   "execution_count": 26,
   "id": "2bd760d9",
   "metadata": {},
   "outputs": [
    {
     "name": "stdout",
     "output_type": "stream",
     "text": [
      "['dhakeri', 'mnr', 'satdobato', 'satdobato']\n"
     ]
    }
   ],
   "source": [
    "print(places)"
   ]
  },
  {
   "cell_type": "code",
   "execution_count": 27,
   "id": "e65c5979",
   "metadata": {},
   "outputs": [],
   "source": [
    "places.insert(4,\"mnr\")"
   ]
  },
  {
   "cell_type": "code",
   "execution_count": 28,
   "id": "0e25ddb0",
   "metadata": {},
   "outputs": [
    {
     "name": "stdout",
     "output_type": "stream",
     "text": [
      "['dhakeri', 'mnr', 'satdobato', 'satdobato', 'mnr']\n"
     ]
    }
   ],
   "source": [
    "print(places)"
   ]
  },
  {
   "cell_type": "code",
   "execution_count": 29,
   "id": "71bb2c2b",
   "metadata": {},
   "outputs": [
    {
     "name": "stdout",
     "output_type": "stream",
     "text": [
      "['mnr', 'satdobato', 'satdobato', 'mnr', 'dhakeri']\n"
     ]
    }
   ],
   "source": [
    "places.reverse()\n",
    "print(places)"
   ]
  },
  {
   "cell_type": "code",
   "execution_count": 30,
   "id": "b5e436ff",
   "metadata": {},
   "outputs": [
    {
     "data": {
      "text/plain": [
       "<function list.clear()>"
      ]
     },
     "execution_count": 30,
     "metadata": {},
     "output_type": "execute_result"
    }
   ],
   "source": [
    "places.clear"
   ]
  },
  {
   "cell_type": "code",
   "execution_count": 31,
   "id": "6da77df2",
   "metadata": {},
   "outputs": [
    {
     "name": "stdout",
     "output_type": "stream",
     "text": [
      "['mnr', 'satdobato', 'satdobato', 'mnr', 'dhakeri']\n"
     ]
    }
   ],
   "source": [
    "print(places)"
   ]
  },
  {
   "cell_type": "code",
   "execution_count": 33,
   "id": "909c0387",
   "metadata": {},
   "outputs": [
    {
     "name": "stdout",
     "output_type": "stream",
     "text": [
      "0\n"
     ]
    }
   ],
   "source": [
    "print(places.index(\"mnr\"))"
   ]
  },
  {
   "cell_type": "code",
   "execution_count": 37,
   "id": "a6714b67",
   "metadata": {},
   "outputs": [
    {
     "name": "stdout",
     "output_type": "stream",
     "text": [
      "True\n",
      "False\n",
      "True\n",
      "True\n"
     ]
    }
   ],
   "source": [
    "listA=[1,2,3,4,[5,6]]\n",
    "print(1 in listA)\n",
    "print([4,5]in listA)\n",
    "print(4 in listA)\n",
    "print(5 in listA[4])"
   ]
  },
  {
   "cell_type": "code",
   "execution_count": null,
   "id": "c09579d6",
   "metadata": {},
   "outputs": [
    {
     "name": "stdout",
     "output_type": "stream",
     "text": [
      "[4, 5, [6, 7, 8], 9]\n"
     ]
    }
   ],
   "source": [
    "listB=[1,2,3,[4,5,[6,7,8],9]]\n",
    "print(listB[3]\n",
    "\n"
   ]
  },
  {
   "cell_type": "code",
   "execution_count": 40,
   "id": "e94d513c",
   "metadata": {},
   "outputs": [
    {
     "name": "stdout",
     "output_type": "stream",
     "text": [
      "[6, 7, 8]\n"
     ]
    }
   ],
   "source": [
    "print(listB[3][2])"
   ]
  },
  {
   "cell_type": "code",
   "execution_count": null,
   "id": "9b9a003c",
   "metadata": {},
   "outputs": [
    {
     "name": "stdout",
     "output_type": "stream",
     "text": [
      "7\n"
     ]
    }
   ],
   "source": [
    "print(listB[3][2][1])\n"
   ]
  },
  {
   "cell_type": "code",
   "execution_count": null,
   "id": "22818723",
   "metadata": {},
   "outputs": [
    {
     "name": "stdout",
     "output_type": "stream",
     "text": [
      "[1, 4, 9, 16, 25, 36, 49, 64, 81, 100, 121]\n"
     ]
    }
   ],
   "source": [
    "squares=[x**2 for x in range(1,12)]\n",
    "print(squares) #list comprehension"
   ]
  },
  {
   "cell_type": "code",
   "execution_count": 45,
   "id": "82b14ee9",
   "metadata": {},
   "outputs": [
    {
     "name": "stdout",
     "output_type": "stream",
     "text": [
      "['APPLE', 'BANANA', 'MANGO']\n"
     ]
    }
   ],
   "source": [
    "words=['apple','banana','mango']\n",
    "uppercased=[word.upper() for word in words]\n",
    "print(uppercased)"
   ]
  },
  {
   "cell_type": "code",
   "execution_count": null,
   "id": "a0fbe941",
   "metadata": {},
   "outputs": [
    {
     "name": "stdout",
     "output_type": "stream",
     "text": [
      "{'antarctica', 'africa', 'asia', 'europe'}\n",
      "['__and__', '__class__', '__class_getitem__', '__contains__', '__delattr__', '__dir__', '__doc__', '__eq__', '__format__', '__ge__', '__getattribute__', '__getstate__', '__gt__', '__hash__', '__iand__', '__init__', '__init_subclass__', '__ior__', '__isub__', '__iter__', '__ixor__', '__le__', '__len__', '__lt__', '__ne__', '__new__', '__or__', '__rand__', '__reduce__', '__reduce_ex__', '__repr__', '__ror__', '__rsub__', '__rxor__', '__setattr__', '__sizeof__', '__str__', '__sub__', '__subclasshook__', '__xor__', 'add', 'clear', 'copy', 'difference', 'difference_update', 'discard', 'intersection', 'intersection_update', 'isdisjoint', 'issubset', 'issuperset', 'pop', 'remove', 'symmetric_difference', 'symmetric_difference_update', 'union', 'update']\n",
      "{'africa', 'europe'}\n"
     ]
    }
   ],
   "source": [
    "continents={'asia','africa','europe','antarctica','asia'}#cant alter the values but can add or remove\n",
    "print(continents)#set is unordered ie no index op can be random\n",
    "print(dir(continents))\n",
    "\n"
   ]
  },
  {
   "cell_type": "code",
   "execution_count": 52,
   "id": "20df89e7",
   "metadata": {},
   "outputs": [
    {
     "name": "stdout",
     "output_type": "stream",
     "text": [
      "{'africa', 'europe'}\n"
     ]
    },
    {
     "data": {
      "text/plain": [
       "'africa'"
      ]
     },
     "execution_count": 52,
     "metadata": {},
     "output_type": "execute_result"
    }
   ],
   "source": [
    "print(continents)\n",
    "continents.pop()"
   ]
  },
  {
   "cell_type": "code",
   "execution_count": 53,
   "id": "1b1d88b9",
   "metadata": {},
   "outputs": [],
   "source": [
    "set1={\"a\",\"b\",\"c\"}\n",
    "set1.remove('a')"
   ]
  },
  {
   "cell_type": "code",
   "execution_count": 54,
   "id": "0f815660",
   "metadata": {},
   "outputs": [
    {
     "ename": "KeyError",
     "evalue": "'a'",
     "output_type": "error",
     "traceback": [
      "\u001b[31m---------------------------------------------------------------------------\u001b[39m",
      "\u001b[31mKeyError\u001b[39m                                  Traceback (most recent call last)",
      "\u001b[36mCell\u001b[39m\u001b[36m \u001b[39m\u001b[32mIn[54]\u001b[39m\u001b[32m, line 1\u001b[39m\n\u001b[32m----> \u001b[39m\u001b[32m1\u001b[39m \u001b[43mset1\u001b[49m\u001b[43m.\u001b[49m\u001b[43mremove\u001b[49m\u001b[43m(\u001b[49m\u001b[33;43m'\u001b[39;49m\u001b[33;43ma\u001b[39;49m\u001b[33;43m'\u001b[39;49m\u001b[43m)\u001b[49m\n",
      "\u001b[31mKeyError\u001b[39m: 'a'"
     ]
    }
   ],
   "source": [
    "set1.remove('a')"
   ]
  },
  {
   "cell_type": "code",
   "execution_count": 55,
   "id": "ffdfb708",
   "metadata": {},
   "outputs": [],
   "source": [
    "set1.discard('a')"
   ]
  },
  {
   "cell_type": "code",
   "execution_count": 57,
   "id": "e19c1441",
   "metadata": {},
   "outputs": [
    {
     "name": "stdout",
     "output_type": "stream",
     "text": [
      "('coat', 'kamij', 'shirt')\n",
      "['__add__', '__class__', '__class_getitem__', '__contains__', '__delattr__', '__dir__', '__doc__', '__eq__', '__format__', '__ge__', '__getattribute__', '__getitem__', '__getnewargs__', '__getstate__', '__gt__', '__hash__', '__init__', '__init_subclass__', '__iter__', '__le__', '__len__', '__lt__', '__mul__', '__ne__', '__new__', '__reduce__', '__reduce_ex__', '__repr__', '__rmul__', '__setattr__', '__sizeof__', '__str__', '__subclasshook__', 'count', 'index']\n"
     ]
    }
   ],
   "source": [
    "dress=(\"coat\",\"kamij\",\"shirt\")\n",
    "print(dress)\n",
    "print(dir(dress))"
   ]
  },
  {
   "cell_type": "code",
   "execution_count": 58,
   "id": "ea00112b",
   "metadata": {},
   "outputs": [
    {
     "data": {
      "text/plain": [
       "3"
      ]
     },
     "execution_count": 58,
     "metadata": {},
     "output_type": "execute_result"
    }
   ],
   "source": [
    "len(dress)"
   ]
  },
  {
   "cell_type": "code",
   "execution_count": 60,
   "id": "5d976671",
   "metadata": {},
   "outputs": [
    {
     "name": "stdout",
     "output_type": "stream",
     "text": [
      "coat\n",
      "shirt\n"
     ]
    }
   ],
   "source": [
    "print(dress[0])\n",
    "print(dress[2])"
   ]
  },
  {
   "cell_type": "code",
   "execution_count": 61,
   "id": "b353ce84",
   "metadata": {},
   "outputs": [
    {
     "name": "stdout",
     "output_type": "stream",
     "text": [
      "1\n"
     ]
    }
   ],
   "source": [
    "print(dress.count(\"coat\"))"
   ]
  },
  {
   "cell_type": "code",
   "execution_count": 63,
   "id": "912b2788",
   "metadata": {},
   "outputs": [
    {
     "name": "stdout",
     "output_type": "stream",
     "text": [
      "('thal', 'katauri', 'glass', 'plate', 'mug')\n"
     ]
    }
   ],
   "source": [
    "newTuple=('thal','katauri','glass','plate')\n",
    "y=('mug',)\n",
    "newTuple+=y\n",
    "print(newTuple)"
   ]
  },
  {
   "cell_type": "code",
   "execution_count": 79,
   "id": "848e020c",
   "metadata": {},
   "outputs": [
    {
     "name": "stdout",
     "output_type": "stream",
     "text": [
      "apple\n",
      "['banana', 'cherry']\n",
      "tomato\n",
      "['banana', 'cherry']\n",
      "tomato\n"
     ]
    }
   ],
   "source": [
    "fruits=(\"apple\",\"banana\",\"cherry\",\"tomato\")\n",
    "(green,*yellow,red)=fruits\n",
    "print(green)\n",
    "print(yellow)\n",
    "print(red)\n",
    "(green,*yellow,red)=fruits\n",
    "print(yellow)\n",
    "print(red)\n"
   ]
  },
  {
   "cell_type": "code",
   "execution_count": null,
   "id": "8d78e019",
   "metadata": {},
   "outputs": [],
   "source": [
    "\n",
    "t=(1,2,(3,4),[\"a\",\"b\"])\n"
   ]
  },
  {
   "cell_type": "code",
   "execution_count": 80,
   "id": "baa13c65",
   "metadata": {},
   "outputs": [
    {
     "data": {
      "text/plain": [
       "['a', 'p', 'p', 'l', 'e', 's']"
      ]
     },
     "execution_count": 80,
     "metadata": {},
     "output_type": "execute_result"
    }
   ],
   "source": [
    "fruits=(\"apples\")\n",
    "list(fruits)"
   ]
  },
  {
   "cell_type": "code",
   "execution_count": 82,
   "id": "549baa53",
   "metadata": {},
   "outputs": [
    {
     "name": "stdout",
     "output_type": "stream",
     "text": [
      "[1, 'hello', 5.67, True] (1, 'hello', 5.67, True) {1, 'hello', 5.67}\n"
     ]
    }
   ],
   "source": [
    "list= [1,'hello',5.67,True]\n",
    "tuple=(1,'hello',5.67,True)\n",
    "set={1,'hello',5.67,True}\n",
    "print(list,tuple,set)"
   ]
  },
  {
   "cell_type": "code",
   "execution_count": 97,
   "id": "09581d90",
   "metadata": {},
   "outputs": [
    {
     "name": "stdout",
     "output_type": "stream",
     "text": [
      "true\n",
      "apples\n"
     ]
    }
   ],
   "source": [
    "friuts=['apple','mango','banana','grapes']\n",
    "if 'apple'in fruits:\n",
    "    print(\"true\")\n",
    "else:\n",
    "    print(\"false\")\n",
    "print(fruits)"
   ]
  },
  {
   "cell_type": "code",
   "execution_count": 96,
   "id": "370d7e98",
   "metadata": {},
   "outputs": [
    {
     "name": "stdout",
     "output_type": "stream",
     "text": [
      "a\n",
      "p\n",
      "p\n",
      "l\n",
      "e\n",
      "s\n",
      "applesapples\n"
     ]
    }
   ],
   "source": [
    "i=0\n",
    "while i<len(fruits):\n",
    "    print(fruits[i])\n",
    "    i=i+1\n",
    "print(fruits*2)"
   ]
  },
  {
   "cell_type": "code",
   "execution_count": null,
   "id": "9bef9f31",
   "metadata": {},
   "outputs": [],
   "source": [
    "import time \n",
    "import sys\n",
    "L=list(rsnge(100000))\n"
   ]
  },
  {
   "cell_type": "code",
   "execution_count": 104,
   "id": "ec3c3470",
   "metadata": {},
   "outputs": [
    {
     "name": "stdout",
     "output_type": "stream",
     "text": [
      "20\n",
      "20\n",
      "['__class__', '__class_getitem__', '__contains__', '__delattr__', '__delitem__', '__dir__', '__doc__', '__eq__', '__format__', '__ge__', '__getattribute__', '__getitem__', '__getstate__', '__gt__', '__hash__', '__init__', '__init_subclass__', '__ior__', '__iter__', '__le__', '__len__', '__lt__', '__ne__', '__new__', '__or__', '__reduce__', '__reduce_ex__', '__repr__', '__reversed__', '__ror__', '__setattr__', '__setitem__', '__sizeof__', '__str__', '__subclasshook__', 'clear', 'copy', 'fromkeys', 'get', 'items', 'keys', 'pop', 'popitem', 'setdefault', 'update', 'values']\n",
      "Help on dict object:\n",
      "\n",
      "class dict(object)\n",
      " |  dict() -> new empty dictionary\n",
      " |  dict(mapping) -> new dictionary initialized from a mapping object's\n",
      " |      (key, value) pairs\n",
      " |  dict(iterable) -> new dictionary initialized as if via:\n",
      " |      d = {}\n",
      " |      for k, v in iterable:\n",
      " |          d[k] = v\n",
      " |  dict(**kwargs) -> new dictionary initialized with the name=value pairs\n",
      " |      in the keyword argument list.  For example:  dict(one=1, two=2)\n",
      " |\n",
      " |  Methods defined here:\n",
      " |\n",
      " |  __contains__(self, key, /)\n",
      " |      True if the dictionary has the specified key, else False.\n",
      " |\n",
      " |  __delitem__(self, key, /)\n",
      " |      Delete self[key].\n",
      " |\n",
      " |  __eq__(self, value, /)\n",
      " |      Return self==value.\n",
      " |\n",
      " |  __ge__(self, value, /)\n",
      " |      Return self>=value.\n",
      " |\n",
      " |  __getattribute__(self, name, /)\n",
      " |      Return getattr(self, name).\n",
      " |\n",
      " |  __getitem__(self, key, /)\n",
      " |      Return self[key].\n",
      " |\n",
      " |  __gt__(self, value, /)\n",
      " |      Return self>value.\n",
      " |\n",
      " |  __init__(self, /, *args, **kwargs)\n",
      " |      Initialize self.  See help(type(self)) for accurate signature.\n",
      " |\n",
      " |  __ior__(self, value, /)\n",
      " |      Return self|=value.\n",
      " |\n",
      " |  __iter__(self, /)\n",
      " |      Implement iter(self).\n",
      " |\n",
      " |  __le__(self, value, /)\n",
      " |      Return self<=value.\n",
      " |\n",
      " |  __len__(self, /)\n",
      " |      Return len(self).\n",
      " |\n",
      " |  __lt__(self, value, /)\n",
      " |      Return self<value.\n",
      " |\n",
      " |  __ne__(self, value, /)\n",
      " |      Return self!=value.\n",
      " |\n",
      " |  __or__(self, value, /)\n",
      " |      Return self|value.\n",
      " |\n",
      " |  __repr__(self, /)\n",
      " |      Return repr(self).\n",
      " |\n",
      " |  __reversed__(self, /)\n",
      " |      Return a reverse iterator over the dict keys.\n",
      " |\n",
      " |  __ror__(self, value, /)\n",
      " |      Return value|self.\n",
      " |\n",
      " |  __setitem__(self, key, value, /)\n",
      " |      Set self[key] to value.\n",
      " |\n",
      " |  __sizeof__(self, /)\n",
      " |      Return the size of the dict in memory, in bytes.\n",
      " |\n",
      " |  clear(self, /)\n",
      " |      Remove all items from the dict.\n",
      " |\n",
      " |  copy(self, /)\n",
      " |      Return a shallow copy of the dict.\n",
      " |\n",
      " |  get(self, key, default=None, /)\n",
      " |      Return the value for key if key is in the dictionary, else default.\n",
      " |\n",
      " |  items(self, /)\n",
      " |      Return a set-like object providing a view on the dict's items.\n",
      " |\n",
      " |  keys(self, /)\n",
      " |      Return a set-like object providing a view on the dict's keys.\n",
      " |\n",
      " |  pop(self, key, default=<unrepresentable>, /)\n",
      " |      D.pop(k[,d]) -> v, remove specified key and return the corresponding value.\n",
      " |\n",
      " |      If the key is not found, return the default if given; otherwise,\n",
      " |      raise a KeyError.\n",
      " |\n",
      " |  popitem(self, /)\n",
      " |      Remove and return a (key, value) pair as a 2-tuple.\n",
      " |\n",
      " |      Pairs are returned in LIFO (last-in, first-out) order.\n",
      " |      Raises KeyError if the dict is empty.\n",
      " |\n",
      " |  setdefault(self, key, default=None, /)\n",
      " |      Insert key with a value of default if key is not in the dictionary.\n",
      " |\n",
      " |      Return the value for key if key is in the dictionary, else default.\n",
      " |\n",
      " |  update(...)\n",
      " |      D.update([E, ]**F) -> None.  Update D from mapping/iterable E and F.\n",
      " |      If E is present and has a .keys() method, then does:  for k in E.keys(): D[k] = E[k]\n",
      " |      If E is present and lacks a .keys() method, then does:  for k, v in E: D[k] = v\n",
      " |      In either case, this is followed by: for k in F:  D[k] = F[k]\n",
      " |\n",
      " |  values(self, /)\n",
      " |      Return an object providing a view on the dict's values.\n",
      " |\n",
      " |  ----------------------------------------------------------------------\n",
      " |  Class methods defined here:\n",
      " |\n",
      " |  __class_getitem__(object, /)\n",
      " |      See PEP 585\n",
      " |\n",
      " |  fromkeys(iterable, value=None, /)\n",
      " |      Create a new dictionary with keys from iterable and values set to value.\n",
      " |\n",
      " |  ----------------------------------------------------------------------\n",
      " |  Static methods defined here:\n",
      " |\n",
      " |  __new__(*args, **kwargs)\n",
      " |      Create and return a new object.  See help(type) for accurate signature.\n",
      " |\n",
      " |  ----------------------------------------------------------------------\n",
      " |  Data and other attributes defined here:\n",
      " |\n",
      " |  __hash__ = None\n",
      "\n",
      "None\n"
     ]
    }
   ],
   "source": [
    "#Dictionary collection of key-value pairs ,unordered,mutuxed and indexed data structures\n",
    "student={\n",
    "    1:\"first\",\n",
    "    \"name\":\"Maheshwar\",\n",
    "    \"age\":20,\n",
    "    \"courses\":[\"Math\",\"Science\"]\n",
    "}\n",
    "print(student[\"age\"])\n",
    "print(student.get(\"age\"))\n",
    "print(dir(student))\n",
    "print(help(student))"
   ]
  },
  {
   "cell_type": "code",
   "execution_count": null,
   "id": "13e2758a",
   "metadata": {},
   "outputs": [
    {
     "ename": "NameError",
     "evalue": "name 'data' is not defined",
     "output_type": "error",
     "traceback": [
      "\u001b[31m---------------------------------------------------------------------------\u001b[39m",
      "\u001b[31mNameError\u001b[39m                                 Traceback (most recent call last)",
      "\u001b[36mCell\u001b[39m\u001b[36m \u001b[39m\u001b[32mIn[102]\u001b[39m\u001b[32m, line 1\u001b[39m\n\u001b[32m----> \u001b[39m\u001b[32m1\u001b[39m \u001b[38;5;28mprint\u001b[39m(\u001b[38;5;28mdir\u001b[39m(\u001b[43mdata\u001b[49m))\n",
      "\u001b[31mNameError\u001b[39m: name 'data' is not defined"
     ]
    }
   ],
   "source": []
  },
  {
   "cell_type": "code",
   "execution_count": 105,
   "id": "775c0d7e",
   "metadata": {},
   "outputs": [
    {
     "name": "stdout",
     "output_type": "stream",
     "text": [
      "{1: 'first', 'name': 'Maheshwar', 'age': 21, 'courses': ['Math', 'Science'], 'job': 'engineer'}\n"
     ]
    }
   ],
   "source": [
    "#Adding and updating\n",
    "student[\"job\"]=\"engineer\"\n",
    "student[\"age\"]=21\n",
    "print(student)"
   ]
  },
  {
   "cell_type": "code",
   "execution_count": 107,
   "id": "4927125b",
   "metadata": {},
   "outputs": [],
   "source": [
    "#removing\n",
    "del student[\"age\"]"
   ]
  },
  {
   "cell_type": "code",
   "execution_count": 109,
   "id": "06bbe68a",
   "metadata": {},
   "outputs": [
    {
     "name": "stdout",
     "output_type": "stream",
     "text": [
      "name do not exists\n"
     ]
    }
   ],
   "source": [
    "#checking key in dictionary\n",
    "if\"mahesh\" in student.values():\n",
    "    print(\"name exists\")\n",
    "else:\n",
    "    print(\"name do not exists\")    "
   ]
  },
  {
   "cell_type": "code",
   "execution_count": 110,
   "id": "3ce76d57",
   "metadata": {},
   "outputs": [
    {
     "name": "stdout",
     "output_type": "stream",
     "text": [
      "1\n",
      "name\n",
      "courses\n",
      "job\n"
     ]
    }
   ],
   "source": [
    "#iteration\n",
    "for key in student:\n",
    "    print(key)"
   ]
  },
  {
   "cell_type": "code",
   "execution_count": 116,
   "id": "02e19d78",
   "metadata": {},
   "outputs": [
    {
     "name": "stdout",
     "output_type": "stream",
     "text": [
      "job first\n",
      "job Maheshwar\n",
      "job ['Math', 'Science']\n",
      "job engineer\n"
     ]
    }
   ],
   "source": [
    "for keys, value in student.items():\n",
    "    print(key,value)"
   ]
  },
  {
   "cell_type": "code",
   "execution_count": 117,
   "id": "59008481",
   "metadata": {},
   "outputs": [
    {
     "name": "stdout",
     "output_type": "stream",
     "text": [
      "first\n",
      "Maheshwar\n",
      "['Math', 'Science']\n",
      "engineer\n"
     ]
    }
   ],
   "source": [
    "for value in student.values():\n",
    "    print(value)"
   ]
  },
  {
   "cell_type": "code",
   "execution_count": 119,
   "id": "d68014fd",
   "metadata": {},
   "outputs": [
    {
     "name": "stdout",
     "output_type": "stream",
     "text": [
      "Mahesh\n"
     ]
    }
   ],
   "source": [
    "#nested dictionary\n",
    "students={\n",
    "    \"student1\":{\"name\":\"Mahesh\",\"age\":20},\n",
    "    \"student2\":{\"name\":\"Manisha\",\"age\":21}\n",
    "\n",
    "}\n",
    "print(students[\"student1\"][\"name\"])"
   ]
  },
  {
   "cell_type": "code",
   "execution_count": 118,
   "id": "805ed7d3",
   "metadata": {},
   "outputs": [
    {
     "name": "stdout",
     "output_type": "stream",
     "text": [
      "{0: 0, 1: 1, 2: 4, 3: 9, 4: 16}\n"
     ]
    }
   ],
   "source": [
    "squares={x:x*x for x in range(5)}\n",
    "print(squares)"
   ]
  },
  {
   "cell_type": "code",
   "execution_count": null,
   "id": "9f0f6ec3",
   "metadata": {},
   "outputs": [],
   "source": []
  }
 ],
 "metadata": {
  "kernelspec": {
   "display_name": "Python 3",
   "language": "python",
   "name": "python3"
  },
  "language_info": {
   "codemirror_mode": {
    "name": "ipython",
    "version": 3
   },
   "file_extension": ".py",
   "mimetype": "text/x-python",
   "name": "python",
   "nbconvert_exporter": "python",
   "pygments_lexer": "ipython3",
   "version": "3.13.1"
  }
 },
 "nbformat": 4,
 "nbformat_minor": 5
}
